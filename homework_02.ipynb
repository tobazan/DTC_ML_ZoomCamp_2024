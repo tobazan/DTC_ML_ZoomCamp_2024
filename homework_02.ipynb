{
 "cells": [
  {
   "cell_type": "markdown",
   "id": "031cc182-fa07-451c-9f53-c2609118c2cc",
   "metadata": {},
   "source": [
    "## Week 02 Homework\n",
    "\n",
    "**REGRESSION**\n",
    "\n",
    "___"
   ]
  },
  {
   "cell_type": "code",
   "execution_count": 1,
   "id": "6dd7cf3f-75d5-41bd-b49e-f8300e26f931",
   "metadata": {},
   "outputs": [],
   "source": [
    "import pandas as pd\n",
    "from sklearn.model_selection import train_test_split"
   ]
  },
  {
   "cell_type": "code",
   "execution_count": 2,
   "id": "2b1850c5-8108-4517-8f15-1aee2d24ce8f",
   "metadata": {},
   "outputs": [],
   "source": [
    "df = pd.read_csv(\"./datasets/laptops.csv\", encoding=\"utf-8\", sep=\",\")\n",
    "\n",
    "df.columns = df.columns.str.lower().str.replace(' ','_')"
   ]
  },
  {
   "cell_type": "code",
   "execution_count": 3,
   "id": "58148ff2-bc1f-4a1e-990d-5817bdecd6c5",
   "metadata": {},
   "outputs": [],
   "source": [
    "df = df[['ram','storage','screen','final_price']]"
   ]
  },
  {
   "cell_type": "code",
   "execution_count": 4,
   "id": "6eb549e4-a8e9-4a87-ab0b-7312fdd9e988",
   "metadata": {},
   "outputs": [
    {
     "name": "stdout",
     "output_type": "stream",
     "text": [
      "<class 'pandas.core.frame.DataFrame'>\n",
      "RangeIndex: 2160 entries, 0 to 2159\n",
      "Data columns (total 4 columns):\n",
      " #   Column       Non-Null Count  Dtype  \n",
      "---  ------       --------------  -----  \n",
      " 0   ram          2160 non-null   int64  \n",
      " 1   storage      2160 non-null   int64  \n",
      " 2   screen       2156 non-null   float64\n",
      " 3   final_price  2160 non-null   float64\n",
      "dtypes: float64(2), int64(2)\n",
      "memory usage: 67.6 KB\n"
     ]
    }
   ],
   "source": [
    "df.info()"
   ]
  },
  {
   "cell_type": "code",
   "execution_count": 5,
   "id": "a003f775-6929-4f39-8de8-9cda9788984e",
   "metadata": {},
   "outputs": [
    {
     "data": {
      "text/plain": [
       "<Axes: >"
      ]
     },
     "execution_count": 5,
     "metadata": {},
     "output_type": "execute_result"
    },
    {
     "data": {
      "image/png": "[encoded data removed]",
      "text/plain": [
       "<Figure size 1000x400 with 1 Axes>"
      ]
     },
     "metadata": {},
     "output_type": "display_data"
    }
   ],
   "source": [
    "df.boxplot(column='final_price', vert=False, figsize=(10,4))"
   ]
  },
  {
   "cell_type": "code",
   "execution_count": 6,
   "id": "cf9abc09-6b6c-4c71-868c-cb8d5c180f7a",
   "metadata": {},
   "outputs": [
    {
     "data": {
      "text/plain": [
       "np.float64(16.0)"
      ]
     },
     "execution_count": 6,
     "metadata": {},
     "output_type": "execute_result"
    }
   ],
   "source": [
    "df['ram'].median()"
   ]
  },
  {
   "cell_type": "markdown",
   "id": "115125ef-28ca-4a52-8054-0029e792a8c2",
   "metadata": {},
   "source": [
    "___\n",
    "\n",
    "**Preparing Dataset**"
   ]
  },
  {
   "cell_type": "code",
   "execution_count": 7,
   "id": "60b81c84-ac0c-4b7a-9669-4ac0499c5375",
   "metadata": {},
   "outputs": [],
   "source": [
    "# shuffling\n",
    "df_shuffled = df.sample(frac=1, random_state=42).reset_index(drop=True)\n",
    "# splitting\n",
    "train_df, temp_df = train_test_split(df_shuffled, test_size=0.4, random_state=42)\n",
    "test_df, val_df = train_test_split(temp_df, test_size=0.5, random_state=42)"
   ]
  },
  {
   "cell_type": "code",
   "execution_count": 9,
   "id": "e3cf70b7-42c5-4792-bc55-a4ae56fe4883",
   "metadata": {},
   "outputs": [],
   "source": [
    "# features and target variable\n",
    "X_train, Y_train = train_df.drop(columns='final_price'), train_df['final_price']\n",
    "X_test, Y_test = test_df.drop(columns='final_price'), test_df['final_price']\n",
    "X_val, Y_val = val_df.drop(columns='final_price'), val_df['final_price']"
   ]
  },
  {
   "cell_type": "code",
   "execution_count": 10,
   "id": "01a1809c-9ead-455a-ad11-d6d65f880459",
   "metadata": {},
   "outputs": [
    {
     "name": "stdout",
     "output_type": "stream",
     "text": [
      "Train set: (1296, 3), (1296,)\n",
      "Test set: (432, 3), (432,)\n",
      "Validation set: (432, 3), (432,)\n"
     ]
    }
   ],
   "source": [
    "print(f\"Train set: {X_train.shape}, {Y_train.shape}\")\n",
    "print(f\"Test set: {X_test.shape}, {Y_test.shape}\")\n",
    "print(f\"Validation set: {X_val.shape}, {Y_val.shape}\")"
   ]
  },
  {
   "cell_type": "markdown",
   "id": "f0fd9669-cf15-4af5-9158-600427e3bc9f",
   "metadata": {},
   "source": [
    "___\n",
    "\n",
    "**Dealing with missing values**"
   ]
  },
  {
   "cell_type": "code",
   "execution_count": 12,
   "id": "2c8cd60c-c321-4173-b5c8-bfac0704ceea",
   "metadata": {},
   "outputs": [
    {
     "data": {
      "text/plain": [
       "np.float64(15.161871616395977)"
      ]
     },
     "execution_count": 12,
     "metadata": {},
     "output_type": "execute_result"
    }
   ],
   "source": [
    "screen_avg = X_train['screen'].mean()\n",
    "screen_avg"
   ]
  },
  {
   "cell_type": "code",
   "execution_count": null,
   "id": "f1e9b00f-67a2-442f-bfa2-84aed486fc1d",
   "metadata": {},
   "outputs": [],
   "source": [
    "def train_linear_regression(X, y):\n",
    "    ones = np.ones(X.shape[0])\n",
    "    X = np.column_stack([ones, X])\n",
    "\n",
    "    XTX = X.T.dot(X)\n",
    "    XTX_inv = np.linalg.inv(XTX)\n",
    "    w = XTX_inv.dot(X.T).dot(y)\n",
    "    \n",
    "    return w[0], w[1:]\n",
    "\n",
    "def rmse(y, y_pred):\n",
    "    error = y_pred - y\n",
    "    mse = (error ** 2).mean()\n",
    "    return np.sqrt(mse)"
   ]
  },
  {
   "cell_type": "code",
   "execution_count": null,
   "id": "8f6f127a-3d2d-4a5e-ac96-311a3006d036",
   "metadata": {},
   "outputs": [],
   "source": []
  },
  {
   "cell_type": "code",
   "execution_count": null,
   "id": "f429fdfb-d329-4329-8070-48765a0e188f",
   "metadata": {},
   "outputs": [],
   "source": []
  }
 ],
 "metadata": {
  "kernelspec": {
   "display_name": ".myenv",
   "language": "python",
   "name": ".myenv"
  },
  "language_info": {
   "codemirror_mode": {
    "name": "ipython",
    "version": 3
   },
   "file_extension": ".py",
   "mimetype": "text/x-python",
   "name": "python",
   "nbconvert_exporter": "python",
   "pygments_lexer": "ipython3",
   "version": "3.10.12"
  }
 },
 "nbformat": 4,
 "nbformat_minor": 5
}
